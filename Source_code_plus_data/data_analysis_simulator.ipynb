{
 "cells": [
  {
   "cell_type": "code",
   "execution_count": 1,
   "id": "05dfe011-6904-44b7-9ccb-fe7131e5c97f",
   "metadata": {},
   "outputs": [
    {
     "ename": "FileNotFoundError",
     "evalue": "simulator/Mz_lambda_0_2.txt not found.",
     "output_type": "error",
     "traceback": [
      "\u001b[31m---------------------------------------------------------------------------\u001b[39m",
      "\u001b[31mFileNotFoundError\u001b[39m                         Traceback (most recent call last)",
      "\u001b[36mCell\u001b[39m\u001b[36m \u001b[39m\u001b[32mIn[1]\u001b[39m\u001b[32m, line 13\u001b[39m\n\u001b[32m     10\u001b[39m get_Mz = \u001b[38;5;28;01mlambda\u001b[39;00m t: (\u001b[32m2\u001b[39m*lamb**\u001b[32m2\u001b[39m + \u001b[32m1\u001b[39m + np.cos(\u001b[32m4\u001b[39m*t*np.sqrt(lamb**\u001b[32m2\u001b[39m+\u001b[32m1\u001b[39m))) / (\u001b[32m2\u001b[39m*lamb**\u001b[32m2\u001b[39m + \u001b[32m2\u001b[39m)\n\u001b[32m     12\u001b[39m \u001b[38;5;66;03m#Load of the data\u001b[39;00m\n\u001b[32m---> \u001b[39m\u001b[32m13\u001b[39m Mz = \u001b[43mnp\u001b[49m\u001b[43m.\u001b[49m\u001b[43mloadtxt\u001b[49m\u001b[43m(\u001b[49m\u001b[33;43m\"\u001b[39;49m\u001b[33;43msimulator/Mz_lambda_\u001b[39;49m\u001b[33;43m\"\u001b[39;49m\u001b[43m+\u001b[49m\u001b[43mlamb_tag\u001b[49m\u001b[43m+\u001b[49m\u001b[33;43m\"\u001b[39;49m\u001b[33;43m.txt\u001b[39;49m\u001b[33;43m\"\u001b[39;49m\u001b[43m)\u001b[49m\n\u001b[32m     14\u001b[39m stdv_Mz = np.loadtxt(\u001b[33m\"\u001b[39m\u001b[33msimulator/stdv_Mz_lambda_\u001b[39m\u001b[33m\"\u001b[39m+lamb_tag+\u001b[33m\"\u001b[39m\u001b[33m.txt\u001b[39m\u001b[33m\"\u001b[39m)\n\u001b[32m     15\u001b[39m stdv_mean_Mz = np.loadtxt(\u001b[33m\"\u001b[39m\u001b[33msimulator/stdv_mean_Mz_lambda_\u001b[39m\u001b[33m\"\u001b[39m+lamb_tag+\u001b[33m\"\u001b[39m\u001b[33m.txt\u001b[39m\u001b[33m\"\u001b[39m)\n",
      "\u001b[36mFile \u001b[39m\u001b[32m~\\OneDrive\\Desktop\\Riccardo\\Università\\Triennale\\3_anno\\Tesi\\Qiskit\\.venv\\Lib\\site-packages\\numpy\\lib\\_npyio_impl.py:1395\u001b[39m, in \u001b[36mloadtxt\u001b[39m\u001b[34m(fname, dtype, comments, delimiter, converters, skiprows, usecols, unpack, ndmin, encoding, max_rows, quotechar, like)\u001b[39m\n\u001b[32m   1392\u001b[39m \u001b[38;5;28;01mif\u001b[39;00m \u001b[38;5;28misinstance\u001b[39m(delimiter, \u001b[38;5;28mbytes\u001b[39m):\n\u001b[32m   1393\u001b[39m     delimiter = delimiter.decode(\u001b[33m'\u001b[39m\u001b[33mlatin1\u001b[39m\u001b[33m'\u001b[39m)\n\u001b[32m-> \u001b[39m\u001b[32m1395\u001b[39m arr = \u001b[43m_read\u001b[49m\u001b[43m(\u001b[49m\u001b[43mfname\u001b[49m\u001b[43m,\u001b[49m\u001b[43m \u001b[49m\u001b[43mdtype\u001b[49m\u001b[43m=\u001b[49m\u001b[43mdtype\u001b[49m\u001b[43m,\u001b[49m\u001b[43m \u001b[49m\u001b[43mcomment\u001b[49m\u001b[43m=\u001b[49m\u001b[43mcomment\u001b[49m\u001b[43m,\u001b[49m\u001b[43m \u001b[49m\u001b[43mdelimiter\u001b[49m\u001b[43m=\u001b[49m\u001b[43mdelimiter\u001b[49m\u001b[43m,\u001b[49m\n\u001b[32m   1396\u001b[39m \u001b[43m            \u001b[49m\u001b[43mconverters\u001b[49m\u001b[43m=\u001b[49m\u001b[43mconverters\u001b[49m\u001b[43m,\u001b[49m\u001b[43m \u001b[49m\u001b[43mskiplines\u001b[49m\u001b[43m=\u001b[49m\u001b[43mskiprows\u001b[49m\u001b[43m,\u001b[49m\u001b[43m \u001b[49m\u001b[43musecols\u001b[49m\u001b[43m=\u001b[49m\u001b[43musecols\u001b[49m\u001b[43m,\u001b[49m\n\u001b[32m   1397\u001b[39m \u001b[43m            \u001b[49m\u001b[43munpack\u001b[49m\u001b[43m=\u001b[49m\u001b[43munpack\u001b[49m\u001b[43m,\u001b[49m\u001b[43m \u001b[49m\u001b[43mndmin\u001b[49m\u001b[43m=\u001b[49m\u001b[43mndmin\u001b[49m\u001b[43m,\u001b[49m\u001b[43m \u001b[49m\u001b[43mencoding\u001b[49m\u001b[43m=\u001b[49m\u001b[43mencoding\u001b[49m\u001b[43m,\u001b[49m\n\u001b[32m   1398\u001b[39m \u001b[43m            \u001b[49m\u001b[43mmax_rows\u001b[49m\u001b[43m=\u001b[49m\u001b[43mmax_rows\u001b[49m\u001b[43m,\u001b[49m\u001b[43m \u001b[49m\u001b[43mquote\u001b[49m\u001b[43m=\u001b[49m\u001b[43mquotechar\u001b[49m\u001b[43m)\u001b[49m\n\u001b[32m   1400\u001b[39m \u001b[38;5;28;01mreturn\u001b[39;00m arr\n",
      "\u001b[36mFile \u001b[39m\u001b[32m~\\OneDrive\\Desktop\\Riccardo\\Università\\Triennale\\3_anno\\Tesi\\Qiskit\\.venv\\Lib\\site-packages\\numpy\\lib\\_npyio_impl.py:1022\u001b[39m, in \u001b[36m_read\u001b[39m\u001b[34m(fname, delimiter, comment, quote, imaginary_unit, usecols, skiplines, max_rows, converters, ndmin, unpack, dtype, encoding)\u001b[39m\n\u001b[32m   1020\u001b[39m     fname = os.fspath(fname)\n\u001b[32m   1021\u001b[39m \u001b[38;5;28;01mif\u001b[39;00m \u001b[38;5;28misinstance\u001b[39m(fname, \u001b[38;5;28mstr\u001b[39m):\n\u001b[32m-> \u001b[39m\u001b[32m1022\u001b[39m     fh = \u001b[43mnp\u001b[49m\u001b[43m.\u001b[49m\u001b[43mlib\u001b[49m\u001b[43m.\u001b[49m\u001b[43m_datasource\u001b[49m\u001b[43m.\u001b[49m\u001b[43mopen\u001b[49m\u001b[43m(\u001b[49m\u001b[43mfname\u001b[49m\u001b[43m,\u001b[49m\u001b[43m \u001b[49m\u001b[33;43m'\u001b[39;49m\u001b[33;43mrt\u001b[39;49m\u001b[33;43m'\u001b[39;49m\u001b[43m,\u001b[49m\u001b[43m \u001b[49m\u001b[43mencoding\u001b[49m\u001b[43m=\u001b[49m\u001b[43mencoding\u001b[49m\u001b[43m)\u001b[49m\n\u001b[32m   1023\u001b[39m     \u001b[38;5;28;01mif\u001b[39;00m encoding \u001b[38;5;129;01mis\u001b[39;00m \u001b[38;5;28;01mNone\u001b[39;00m:\n\u001b[32m   1024\u001b[39m         encoding = \u001b[38;5;28mgetattr\u001b[39m(fh, \u001b[33m'\u001b[39m\u001b[33mencoding\u001b[39m\u001b[33m'\u001b[39m, \u001b[33m'\u001b[39m\u001b[33mlatin1\u001b[39m\u001b[33m'\u001b[39m)\n",
      "\u001b[36mFile \u001b[39m\u001b[32m~\\OneDrive\\Desktop\\Riccardo\\Università\\Triennale\\3_anno\\Tesi\\Qiskit\\.venv\\Lib\\site-packages\\numpy\\lib\\_datasource.py:192\u001b[39m, in \u001b[36mopen\u001b[39m\u001b[34m(path, mode, destpath, encoding, newline)\u001b[39m\n\u001b[32m    155\u001b[39m \u001b[38;5;250m\u001b[39m\u001b[33;03m\"\"\"\u001b[39;00m\n\u001b[32m    156\u001b[39m \u001b[33;03mOpen `path` with `mode` and return the file object.\u001b[39;00m\n\u001b[32m    157\u001b[39m \n\u001b[32m   (...)\u001b[39m\u001b[32m    188\u001b[39m \n\u001b[32m    189\u001b[39m \u001b[33;03m\"\"\"\u001b[39;00m\n\u001b[32m    191\u001b[39m ds = DataSource(destpath)\n\u001b[32m--> \u001b[39m\u001b[32m192\u001b[39m \u001b[38;5;28;01mreturn\u001b[39;00m \u001b[43mds\u001b[49m\u001b[43m.\u001b[49m\u001b[43mopen\u001b[49m\u001b[43m(\u001b[49m\u001b[43mpath\u001b[49m\u001b[43m,\u001b[49m\u001b[43m \u001b[49m\u001b[43mmode\u001b[49m\u001b[43m,\u001b[49m\u001b[43m \u001b[49m\u001b[43mencoding\u001b[49m\u001b[43m=\u001b[49m\u001b[43mencoding\u001b[49m\u001b[43m,\u001b[49m\u001b[43m \u001b[49m\u001b[43mnewline\u001b[49m\u001b[43m=\u001b[49m\u001b[43mnewline\u001b[49m\u001b[43m)\u001b[49m\n",
      "\u001b[36mFile \u001b[39m\u001b[32m~\\OneDrive\\Desktop\\Riccardo\\Università\\Triennale\\3_anno\\Tesi\\Qiskit\\.venv\\Lib\\site-packages\\numpy\\lib\\_datasource.py:529\u001b[39m, in \u001b[36mDataSource.open\u001b[39m\u001b[34m(self, path, mode, encoding, newline)\u001b[39m\n\u001b[32m    526\u001b[39m     \u001b[38;5;28;01mreturn\u001b[39;00m _file_openers[ext](found, mode=mode,\n\u001b[32m    527\u001b[39m                               encoding=encoding, newline=newline)\n\u001b[32m    528\u001b[39m \u001b[38;5;28;01melse\u001b[39;00m:\n\u001b[32m--> \u001b[39m\u001b[32m529\u001b[39m     \u001b[38;5;28;01mraise\u001b[39;00m \u001b[38;5;167;01mFileNotFoundError\u001b[39;00m(\u001b[33mf\u001b[39m\u001b[33m\"\u001b[39m\u001b[38;5;132;01m{\u001b[39;00mpath\u001b[38;5;132;01m}\u001b[39;00m\u001b[33m not found.\u001b[39m\u001b[33m\"\u001b[39m)\n",
      "\u001b[31mFileNotFoundError\u001b[39m: simulator/Mz_lambda_0_2.txt not found."
     ]
    }
   ],
   "source": [
    "from magnetization import *\n",
    "import numpy as np\n",
    "import matplotlib.pyplot as plt\n",
    "\n",
    "lamb = 0.2\n",
    "lamb_tag = \"0_2\"\n",
    "T = 2\n",
    "#Definition of the analytical form of err_Mz\n",
    "get_err_Mz = lambda t: np.sqrt( (2*lamb**2 + 1 + np.cos(4*t*np.sqrt(lamb**2+1))) ) * np.sqrt(1 - np.cos(4*t*np.sqrt(lamb**2+1))) / (2 + 2*lamb**2)\n",
    "get_Mz = lambda t: (2*lamb**2 + 1 + np.cos(4*t*np.sqrt(lamb**2+1))) / (2*lamb**2 + 2)\n",
    "\n",
    "#Load of the data\n",
    "Mz = np.loadtxt(\"simulator/Mz_lambda_\"+lamb_tag+\".txt\")\n",
    "stdv_Mz = np.loadtxt(\"simulator/stdv_Mz_lambda_\"+lamb_tag+\".txt\")\n",
    "stdv_mean_Mz = np.loadtxt(\"simulator/stdv_mean_Mz_lambda_\"+lamb_tag+\".txt\")\n",
    "t_axis = np.loadtxt(\"simulator/times_lambda_\"+lamb_tag+\".txt\")\n",
    "\n",
    "#Calculation of data for the exact solution\n",
    "err_Mz_exact = []\n",
    "Mz_exact = []\n",
    "t_axis_exact = np.linspace(0,T,200)\n",
    "for t in t_axis_exact:\n",
    "    err_Mz_exact.append(get_err_Mz(t))\n",
    "    Mz_exact.append(get_Mz(t))"
   ]
  },
  {
   "cell_type": "code",
   "execution_count": null,
   "id": "2d09a06a-6cb5-40b2-a600-d6a1ca238b3a",
   "metadata": {},
   "outputs": [],
   "source": [
    "plt.plot(t_axis_exact,Mz_exact,'--',label=\"analytical result\")\n",
    "plt.errorbar(t_axis,Mz,yerr=stdv_mean_Mz,fmt='ro',label=\"Aer simulator\", markersize=\"4\", elinewidth=2, ecolor=\"black\", capsize=3)\n",
    "plt.title(\"Exact vs simulated uncertainty for Mz (\" + r\"$\\lambda$\" + \" = \" + str(lamb) + \")\")\n",
    "plt.xlabel(\"Time\")\n",
    "plt.ylabel(\"Magnetization uncertainty\")\n",
    "plt.legend(bbox_to_anchor=(0.85,0.9),fancybox=True,shadow=True,fontsize=10)\n",
    "plt.savefig(\"simulator/simulator_graph_lambda_\" + lamb_tag, bbox_inches=\"tight\")\n",
    "\n",
    "plt.show()"
   ]
  },
  {
   "cell_type": "code",
   "execution_count": null,
   "id": "33e66ef9-152a-4031-b7f5-3b09553c4781",
   "metadata": {},
   "outputs": [],
   "source": [
    "plt.plot(t_axis_exact,err_Mz_exact,'--',label=\"analytical result\")\n",
    "plt.plot(t_axis,stdv_Mz,'or',label=\"Aer simulator\", markersize=\"4\")\n",
    "plt.title(\"Exact vs simulated uncertainty for Mz (\" + r\"$\\lambda$\" + \" = \" + str(lamb) + \")\")\n",
    "plt.xlabel(\"Time\")\n",
    "plt.ylabel(\"Magnetization uncertainty\")\n",
    "plt.legend(bbox_to_anchor=(0.85,0.2),fancybox=True,shadow=True,fontsize=10)\n",
    "#plt.savefig(\"simulator/simulator_graph_err_lamb_\" + lamb_tag, bbox_inches=\"tight\")\n",
    "\n",
    "plt.show()"
   ]
  }
 ],
 "metadata": {
  "kernelspec": {
   "display_name": "Python 3 (ipykernel)",
   "language": "python",
   "name": "python3"
  },
  "language_info": {
   "codemirror_mode": {
    "name": "ipython",
    "version": 3
   },
   "file_extension": ".py",
   "mimetype": "text/x-python",
   "name": "python",
   "nbconvert_exporter": "python",
   "pygments_lexer": "ipython3",
   "version": "3.13.2"
  }
 },
 "nbformat": 4,
 "nbformat_minor": 5
}
