{
 "cells": [
  {
   "cell_type": "code",
   "execution_count": 1,
   "id": "4aa34f77-bacb-45f1-99f2-bc50024c6207",
   "metadata": {},
   "outputs": [],
   "source": [
    "from qiskit_ibm_runtime import RuntimeDecoder\n",
    "import json\n",
    "from magnetization import *\n",
    "import numpy as np\n",
    "import matplotlib.pyplot as plt\n",
    "\n",
    "lamb = 0.5\n",
    "lamb_tag = \"0_5\"\n",
    "T = 2\n",
    "delta_t = T/200\n",
    "\n",
    "results = []\n",
    "\n",
    "#Extraction of the stored data of the simulation\n",
    "with open(\"results/result_lambda_\"+lamb_tag+\"_old.json\", \"r\") as file:\n",
    "    job = json.load(file, cls=RuntimeDecoder)\n",
    "t_axis = np.loadtxt(\"results/times_lambda_\"+lamb_tag+\".txt\")\n",
    "for i in range(len(job)):\n",
    "    results.append(job[i].data.meas.get_bitstrings())\n",
    "results = np.array(results)"
   ]
  },
  {
   "cell_type": "code",
   "execution_count": 2,
   "id": "0bc6bc92-cb2e-4a92-bfa4-5091a89d477b",
   "metadata": {},
   "outputs": [
    {
     "name": "stdout",
     "output_type": "stream",
     "text": [
      "Legend: [P(Mz=-1), P(Mz=-1/2), P(Mz=0), P(Mz=1/2), P(Mz=1)]\n",
      "[0.         0.00585938 0.05078125 0.23632812 0.70703125]\n"
     ]
    }
   ],
   "source": [
    "probabilities = get_prob_states(results[0])\n",
    "print(\"Legend: [P(Mz=-1), P(Mz=-1/2), P(Mz=0), P(Mz=1/2), P(Mz=1)]\")\n",
    "print(probabilities)"
   ]
  },
  {
   "cell_type": "code",
   "execution_count": 3,
   "id": "1d8cf5e4-09ae-464a-8511-b4c3ea5d7978",
   "metadata": {},
   "outputs": [],
   "source": [
    "#Computation of the error rates\n",
    "prob = lambda t: (2*lamb**2 + 1 + np.cos(4*t*np.sqrt(lamb**2 + 1))) / (2*lamb**2 + 2)\n",
    "err_rates = []\n",
    "for i in range(len(results)):\n",
    "    t = t_axis[i]\n",
    "    probabilities = get_prob_states(results[i])\n",
    "    err_rate = (prob(t) - probabilities[4]) + (1-prob(t) - probabilities[2])\n",
    "    err_rates.append(err_rate)"
   ]
  },
  {
   "cell_type": "code",
   "execution_count": 4,
   "id": "f2bafb41-8259-4548-97a3-506fb5e037b5",
   "metadata": {},
   "outputs": [
    {
     "name": "stdout",
     "output_type": "stream",
     "text": [
      "Mean: 0.175634765625 \n",
      "Standard deviation: 0.027583671570581066\n"
     ]
    }
   ],
   "source": [
    "#Calculation of the statistics fro the error rates\n",
    "s = 0\n",
    "\n",
    "for x in err_rates:\n",
    "    s += x\n",
    "mean = s/len(err_rates)\n",
    "\n",
    "s = 0\n",
    "for x in err_rates:\n",
    "    s += (x - mean)**2\n",
    "stdv = np.sqrt(s/(len(err_rates)-1))\n",
    "print(\"Mean:\",mean,\"\\nStandard deviation:\",stdv)"
   ]
  }
 ],
 "metadata": {
  "kernelspec": {
   "display_name": "Python 3 (ipykernel)",
   "language": "python",
   "name": "python3"
  },
  "language_info": {
   "codemirror_mode": {
    "name": "ipython",
    "version": 3
   },
   "file_extension": ".py",
   "mimetype": "text/x-python",
   "name": "python",
   "nbconvert_exporter": "python",
   "pygments_lexer": "ipython3",
   "version": "3.13.2"
  }
 },
 "nbformat": 4,
 "nbformat_minor": 5
}
