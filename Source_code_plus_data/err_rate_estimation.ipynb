{
 "cells": [
  {
   "cell_type": "code",
   "execution_count": 1,
   "id": "4aa34f77-bacb-45f1-99f2-bc50024c6207",
   "metadata": {},
   "outputs": [
    {
     "ename": "FileNotFoundError",
     "evalue": "[Errno 2] No such file or directory: 'results/result_lambda_0_5_old.json'",
     "output_type": "error",
     "traceback": [
      "\u001b[31m---------------------------------------------------------------------------\u001b[39m",
      "\u001b[31mFileNotFoundError\u001b[39m                         Traceback (most recent call last)",
      "\u001b[36mCell\u001b[39m\u001b[36m \u001b[39m\u001b[32mIn[1]\u001b[39m\u001b[32m, line 15\u001b[39m\n\u001b[32m     12\u001b[39m results = []\n\u001b[32m     14\u001b[39m \u001b[38;5;66;03m#Extraction of the stored data of the simulation\u001b[39;00m\n\u001b[32m---> \u001b[39m\u001b[32m15\u001b[39m \u001b[38;5;28;01mwith\u001b[39;00m \u001b[38;5;28;43mopen\u001b[39;49m\u001b[43m(\u001b[49m\u001b[33;43m\"\u001b[39;49m\u001b[33;43mresults/result_lambda_\u001b[39;49m\u001b[33;43m\"\u001b[39;49m\u001b[43m+\u001b[49m\u001b[43mlamb_tag\u001b[49m\u001b[43m+\u001b[49m\u001b[33;43m\"\u001b[39;49m\u001b[33;43m_old.json\u001b[39;49m\u001b[33;43m\"\u001b[39;49m\u001b[43m,\u001b[49m\u001b[43m \u001b[49m\u001b[33;43m\"\u001b[39;49m\u001b[33;43mr\u001b[39;49m\u001b[33;43m\"\u001b[39;49m\u001b[43m)\u001b[49m \u001b[38;5;28;01mas\u001b[39;00m file:\n\u001b[32m     16\u001b[39m     job = json.load(file, \u001b[38;5;28mcls\u001b[39m=RuntimeDecoder)\n\u001b[32m     17\u001b[39m t_axis = np.loadtxt(\u001b[33m\"\u001b[39m\u001b[33mresults/times_lambda_\u001b[39m\u001b[33m\"\u001b[39m+lamb_tag+\u001b[33m\"\u001b[39m\u001b[33m.txt\u001b[39m\u001b[33m\"\u001b[39m)\n",
      "\u001b[36mFile \u001b[39m\u001b[32m~\\OneDrive\\Desktop\\Riccardo\\Università\\Triennale\\3_anno\\Tesi\\Qiskit\\.venv\\Lib\\site-packages\\IPython\\core\\interactiveshell.py:325\u001b[39m, in \u001b[36m_modified_open\u001b[39m\u001b[34m(file, *args, **kwargs)\u001b[39m\n\u001b[32m    318\u001b[39m \u001b[38;5;28;01mif\u001b[39;00m file \u001b[38;5;129;01min\u001b[39;00m {\u001b[32m0\u001b[39m, \u001b[32m1\u001b[39m, \u001b[32m2\u001b[39m}:\n\u001b[32m    319\u001b[39m     \u001b[38;5;28;01mraise\u001b[39;00m \u001b[38;5;167;01mValueError\u001b[39;00m(\n\u001b[32m    320\u001b[39m         \u001b[33mf\u001b[39m\u001b[33m\"\u001b[39m\u001b[33mIPython won\u001b[39m\u001b[33m'\u001b[39m\u001b[33mt let you open fd=\u001b[39m\u001b[38;5;132;01m{\u001b[39;00mfile\u001b[38;5;132;01m}\u001b[39;00m\u001b[33m by default \u001b[39m\u001b[33m\"\u001b[39m\n\u001b[32m    321\u001b[39m         \u001b[33m\"\u001b[39m\u001b[33mas it is likely to crash IPython. If you know what you are doing, \u001b[39m\u001b[33m\"\u001b[39m\n\u001b[32m    322\u001b[39m         \u001b[33m\"\u001b[39m\u001b[33myou can use builtins\u001b[39m\u001b[33m'\u001b[39m\u001b[33m open.\u001b[39m\u001b[33m\"\u001b[39m\n\u001b[32m    323\u001b[39m     )\n\u001b[32m--> \u001b[39m\u001b[32m325\u001b[39m \u001b[38;5;28;01mreturn\u001b[39;00m \u001b[43mio_open\u001b[49m\u001b[43m(\u001b[49m\u001b[43mfile\u001b[49m\u001b[43m,\u001b[49m\u001b[43m \u001b[49m\u001b[43m*\u001b[49m\u001b[43margs\u001b[49m\u001b[43m,\u001b[49m\u001b[43m \u001b[49m\u001b[43m*\u001b[49m\u001b[43m*\u001b[49m\u001b[43mkwargs\u001b[49m\u001b[43m)\u001b[49m\n",
      "\u001b[31mFileNotFoundError\u001b[39m: [Errno 2] No such file or directory: 'results/result_lambda_0_5_old.json'"
     ]
    }
   ],
   "source": [
    "from qiskit_ibm_runtime import RuntimeDecoder\n",
    "import json\n",
    "from magnetization import *\n",
    "import numpy as np\n",
    "import matplotlib.pyplot as plt\n",
    "\n",
    "lamb = 0.5\n",
    "lamb_tag = \"0_5\"\n",
    "T = 2\n",
    "delta_t = T/200\n",
    "\n",
    "results = []\n",
    "\n",
    "#Extraction of the stored data of the simulation\n",
    "with open(\"results/result_lambda_\"+lamb_tag+\".json\", \"r\") as file:\n",
    "    job = json.load(file, cls=RuntimeDecoder)\n",
    "t_axis = np.loadtxt(\"results/times_lambda_\"+lamb_tag+\".txt\")\n",
    "for i in range(len(job)):\n",
    "    results.append(job[i].data.meas.get_bitstrings())\n",
    "results = np.array(results)"
   ]
  },
  {
   "cell_type": "code",
   "execution_count": null,
   "id": "0bc6bc92-cb2e-4a92-bfa4-5091a89d477b",
   "metadata": {},
   "outputs": [],
   "source": [
    "#Printout of the probabilities\n",
    "probabilities = get_prob_states(results[0])\n",
    "print(\"Legend: [P(Mz=-1), P(Mz=-1/2), P(Mz=0), P(Mz=1/2), P(Mz=1)]\")\n",
    "print(probabilities)"
   ]
  },
  {
   "cell_type": "code",
   "execution_count": null,
   "id": "1d8cf5e4-09ae-464a-8511-b4c3ea5d7978",
   "metadata": {},
   "outputs": [],
   "source": [
    "#Computation of the error rates\n",
    "prob = lambda t: (2*lamb**2 + 1 + np.cos(4*t*np.sqrt(lamb**2 + 1))) / (2*lamb**2 + 2)\n",
    "err_rates = []\n",
    "for i in range(len(results)):\n",
    "    t = t_axis[i]\n",
    "    probabilities = get_prob_states(results[i])\n",
    "    err_rate = (prob(t) - probabilities[4]) + (1-prob(t) - probabilities[2])\n",
    "    err_rates.append(err_rate)"
   ]
  },
  {
   "cell_type": "code",
   "execution_count": null,
   "id": "f2bafb41-8259-4548-97a3-506fb5e037b5",
   "metadata": {},
   "outputs": [],
   "source": [
    "#Calculation of the statistics for the error rates\n",
    "s = 0\n",
    "\n",
    "for x in err_rates:\n",
    "    s += x\n",
    "mean = s/len(err_rates)\n",
    "\n",
    "s = 0\n",
    "for x in err_rates:\n",
    "    s += (x - mean)**2\n",
    "stdv = np.sqrt(s/(len(err_rates)-1))\n",
    "print(\"Mean:\",mean,\"\\nStandard deviation:\",stdv)"
   ]
  }
 ],
 "metadata": {
  "kernelspec": {
   "display_name": "Python 3 (ipykernel)",
   "language": "python",
   "name": "python3"
  },
  "language_info": {
   "codemirror_mode": {
    "name": "ipython",
    "version": 3
   },
   "file_extension": ".py",
   "mimetype": "text/x-python",
   "name": "python",
   "nbconvert_exporter": "python",
   "pygments_lexer": "ipython3",
   "version": "3.13.2"
  }
 },
 "nbformat": 4,
 "nbformat_minor": 5
}
