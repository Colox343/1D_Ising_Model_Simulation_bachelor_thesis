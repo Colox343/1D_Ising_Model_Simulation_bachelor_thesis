{
 "cells": [
  {
   "cell_type": "code",
   "execution_count": 1,
   "id": "d7f3cb24-1a4d-40a3-a4d9-f4007dbf0d0f",
   "metadata": {
    "scrolled": true
   },
   "outputs": [
    {
     "name": "stderr",
     "output_type": "stream",
     "text": [
      "qiskit_runtime_service._resolve_cloud_instances:WARNING:2025-07-01 14:45:22,730: Default instance not set. Searching all available instances.\n"
     ]
    },
    {
     "name": "stdout",
     "output_type": "stream",
     "text": [
      "Service established\n"
     ]
    },
    {
     "name": "stderr",
     "output_type": "stream",
     "text": [
      "qiskit_runtime_service._resolve_cloud_instances:WARNING:2025-07-01 14:45:24,728: Default instance not set. Searching all available instances.\n"
     ]
    },
    {
     "ename": "QiskitBackendNotFoundError",
     "evalue": "'No backend matches the criteria. Learn more about available backends here https://quantum.cloud.ibm.com/docs/en/guides/qpu-information#view-your-resources'",
     "output_type": "error",
     "traceback": [
      "\u001b[31m---------------------------------------------------------------------------\u001b[39m",
      "\u001b[31mQiskitBackendNotFoundError\u001b[39m                Traceback (most recent call last)",
      "\u001b[36mCell\u001b[39m\u001b[36m \u001b[39m\u001b[32mIn[1]\u001b[39m\u001b[32m, line 26\u001b[39m\n\u001b[32m     24\u001b[39m service = QiskitRuntimeService(channel=\u001b[33m\"\u001b[39m\u001b[33mibm_quantum_platform\u001b[39m\u001b[33m\"\u001b[39m,token=API_KEY)\n\u001b[32m     25\u001b[39m \u001b[38;5;28mprint\u001b[39m(\u001b[33m\"\u001b[39m\u001b[33mService established\u001b[39m\u001b[33m\"\u001b[39m)\n\u001b[32m---> \u001b[39m\u001b[32m26\u001b[39m backend = \u001b[43mservice\u001b[49m\u001b[43m.\u001b[49m\u001b[43mbackend\u001b[49m\u001b[43m(\u001b[49m\u001b[33;43m\"\u001b[39;49m\u001b[33;43mibm_sherbrooke\u001b[39;49m\u001b[33;43m\"\u001b[39;49m\u001b[43m)\u001b[49m\n\u001b[32m     27\u001b[39m \u001b[38;5;28mprint\u001b[39m(\u001b[33m\"\u001b[39m\u001b[33mConnected to:\u001b[39m\u001b[33m\"\u001b[39m,backend.name)\n\u001b[32m     28\u001b[39m sampler = Sampler(mode=backend)\n",
      "\u001b[36mFile \u001b[39m\u001b[32m~\\OneDrive\\Desktop\\Riccardo\\Università\\Triennale\\3_anno\\Tesi\\Qiskit\\.venv\\Lib\\site-packages\\qiskit_ibm_runtime\\qiskit_runtime_service.py:1034\u001b[39m, in \u001b[36mQiskitRuntimeService.backend\u001b[39m\u001b[34m(self, name, instance, use_fractional_gates)\u001b[39m\n\u001b[32m   1029\u001b[39m     \u001b[38;5;28;01mif\u001b[39;00m \u001b[38;5;28mself\u001b[39m._channel \u001b[38;5;129;01min\u001b[39;00m [\u001b[33m\"\u001b[39m\u001b[33mibm_cloud\u001b[39m\u001b[33m\"\u001b[39m, \u001b[33m\"\u001b[39m\u001b[33mibm_quantum_platform\u001b[39m\u001b[33m\"\u001b[39m]:\n\u001b[32m   1030\u001b[39m         cloud_msg_url = (\n\u001b[32m   1031\u001b[39m             \u001b[33m\"\u001b[39m\u001b[33m Learn more about available backends here \u001b[39m\u001b[33m\"\u001b[39m\n\u001b[32m   1032\u001b[39m             \u001b[33m\"\u001b[39m\u001b[33mhttps://quantum.cloud.ibm.com/docs/en/guides/qpu-information#view-your-resources\u001b[39m\u001b[33m\"\u001b[39m\n\u001b[32m   1033\u001b[39m         )\n\u001b[32m-> \u001b[39m\u001b[32m1034\u001b[39m     \u001b[38;5;28;01mraise\u001b[39;00m QiskitBackendNotFoundError(\u001b[33m\"\u001b[39m\u001b[33mNo backend matches the criteria.\u001b[39m\u001b[33m\"\u001b[39m + cloud_msg_url)\n\u001b[32m   1035\u001b[39m \u001b[38;5;28;01mreturn\u001b[39;00m backends[\u001b[32m0\u001b[39m]\n",
      "\u001b[31mQiskitBackendNotFoundError\u001b[39m: 'No backend matches the criteria. Learn more about available backends here https://quantum.cloud.ibm.com/docs/en/guides/qpu-information#view-your-resources'"
     ]
    }
   ],
   "source": [
    "from qiskit import QuantumCircuit, transpile\n",
    "from qiskit_aer import AerSimulator\n",
    "from qiskit_ibm_runtime import QiskitRuntimeService, SamplerV2 as Sampler, RuntimeEncoder\n",
    "from qiskit.visualization import plot_histogram\n",
    "import numpy as np\n",
    "from QGates_4_qubits import *\n",
    "from magnetization import *\n",
    "import matplotlib.pyplot as plt\n",
    "import json\n",
    "\n",
    "API_KEY = \"INSERT YOUR API KEY\"\n",
    "n = 4\n",
    "lamb = 0.5\n",
    "lamb_tag = \"0_5\"\n",
    "T = 2\n",
    "delta_t = T/200\n",
    "Mz_exact, t_axis_exact = get_data_Mz(T,delta_t,lamb)\n",
    "t_axis = np.array([])\n",
    "Mz = np.array([])\n",
    "stdv_Mz = np.array([])\n",
    "stdv_mean_Mz = np.array([])\n",
    "\n",
    "#Conncetion to the remote quantum computer\n",
    "service = QiskitRuntimeService(channel=\"ibm_quantum_platform\",token=API_KEY)\n",
    "print(\"Service established\")\n",
    "backend = service.backend(\"ibm_sherbrooke\")\n",
    "print(\"Connected to:\",backend.name)\n",
    "sampler = Sampler(mode=backend)\n",
    "pubs = []       #List of the quantum circuits run\n",
    "\n",
    "for i in range(int(len(t_axis_exact)/10)):\n",
    "    t_axis = np.append(t_axis,t_axis_exact[i*10])\n",
    "\n",
    "#Construction of the 20 quantum circuits to perform the simulation\n",
    "for t in t_axis:\n",
    "    qc = QuantumCircuit(n)\n",
    "    #Preparation of the qubits in the state |1111>\n",
    "    for i in range(n):\n",
    "        qc.x(i)\n",
    "    #Disentangling process\n",
    "    apply_Udis(qc,n,lamb)\n",
    "    #Application of the evolution operator\n",
    "    ks = [0,2,1,-1]\n",
    "    for i in range(n):\n",
    "        E = get_E(n,ks[i],lamb)\n",
    "        qc.p(-1*E*t,i)\n",
    "    #Recalculation of the state in the original basis\n",
    "    apply_Udis_inv(qc,n,lamb)    \n",
    "    qc.measure_all()\n",
    "\n",
    "    layout = range(n)\n",
    "    qc_transpiled = transpile(qc,backend,initial_layout=layout,optimization_level=2)\n",
    "    pubs.append(qc_transpiled)\n",
    "\n",
    "qc_transpiled.draw(\"mpl\")"
   ]
  },
  {
   "cell_type": "code",
   "execution_count": null,
   "id": "6f1a79cb-3a02-4087-8674-53a93221bc19",
   "metadata": {},
   "outputs": [],
   "source": [
    "#Generation and storage of the results\n",
    "print(\"Backend:\",sampler.backend())\n",
    "qc_job = sampler.run(pubs, shots=2**10)\n",
    "\n",
    "with open(\"results/result_lambda_\"+lamb_tag+\".json\", \"w\") as file:\n",
    "    json.dump(qc_job.result(), file, cls=RuntimeEncoder)\n",
    "\n",
    "f = open(\"results/times_lambda_\"+lamb_tag+\".txt\", \"w\")\n",
    "for t in t_axis:\n",
    "    f.write(str(t)+\"\\n\")\n",
    "f.close()\n",
    "print(\"Task completed\")"
   ]
  }
 ],
 "metadata": {
  "kernelspec": {
   "display_name": "Python 3 (ipykernel)",
   "language": "python",
   "name": "python3"
  },
  "language_info": {
   "codemirror_mode": {
    "name": "ipython",
    "version": 3
   },
   "file_extension": ".py",
   "mimetype": "text/x-python",
   "name": "python",
   "nbconvert_exporter": "python",
   "pygments_lexer": "ipython3",
   "version": "3.13.2"
  }
 },
 "nbformat": 4,
 "nbformat_minor": 5
}
