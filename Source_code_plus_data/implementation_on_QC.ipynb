{
 "cells": [
  {
   "cell_type": "code",
   "execution_count": null,
   "id": "d7f3cb24-1a4d-40a3-a4d9-f4007dbf0d0f",
   "metadata": {
    "scrolled": true
   },
   "outputs": [],
   "source": [
    "from qiskit import QuantumCircuit, transpile\n",
    "from qiskit_aer import AerSimulator\n",
    "from qiskit_ibm_runtime import QiskitRuntimeService, SamplerV2 as Sampler, RuntimeEncoder\n",
    "from qiskit.visualization import plot_histogram\n",
    "import numpy as np\n",
    "from QGates_4_qubits import *\n",
    "from magnetization import *\n",
    "import matplotlib.pyplot as plt\n",
    "import json\n",
    "\n",
    "API_KEY = \"t5ptWT8ROsLjyryIgCaqY6jRWAm6k0Ob29icgRrwspSY\"\n",
    "n = 4\n",
    "lamb = 0.5\n",
    "lamb_tag = \"0_5\"\n",
    "T = 2\n",
    "delta_t = T/200\n",
    "Mz_exact, t_axis_exact = get_data_Mz(T,delta_t,lamb)\n",
    "t_axis = np.array([])\n",
    "Mz = np.array([])\n",
    "stdv_Mz = np.array([])\n",
    "stdv_mean_Mz = np.array([])\n",
    "\n",
    "#Conncetion to the remote quantum computer\n",
    "service = QiskitRuntimeService(channel=\"ibm_quantum_platform\",token=API_KEY)\n",
    "print(\"Service established\")\n",
    "backend = service.backend(\"ibm_sherbrooke\")\n",
    "print(\"Connected to:\",backend.name)\n",
    "sampler = Sampler(mode=backend)\n",
    "pubs = []       #List of the quantum circuits run\n",
    "\n",
    "for i in range(int(len(t_axis_exact)/10)):\n",
    "    t_axis = np.append(t_axis,t_axis_exact[i*10])\n",
    "\n",
    "#Construction of the 20 quantum circuits to perform the simulation\n",
    "for t in t_axis:\n",
    "    qc = QuantumCircuit(n)\n",
    "    #Preparation of the qubits in the state |1111>\n",
    "    for i in range(n):\n",
    "        qc.x(i)\n",
    "    #Disentangling process\n",
    "    apply_Udis(qc,n,lamb)\n",
    "    #Application of the evolution operator\n",
    "    ks = [0,2,1,-1]\n",
    "    for i in range(n):\n",
    "        E = get_E(n,ks[i],lamb)\n",
    "        qc.p(-1*E*t,i)\n",
    "    #Recalculation of the state in the original basis\n",
    "    apply_Udis_inv(qc,n,lamb)    \n",
    "    qc.measure_all()\n",
    "\n",
    "    layout = range(n)\n",
    "    qc_transpiled = transpile(qc,backend,initial_layout=layout,optimization_level=2)\n",
    "    pubs.append(qc_transpiled)\n",
    "\n",
    "qc_transpiled.draw(\"mpl\")"
   ]
  },
  {
   "cell_type": "code",
   "execution_count": null,
   "id": "6f1a79cb-3a02-4087-8674-53a93221bc19",
   "metadata": {},
   "outputs": [],
   "source": [
    "#Generation and storage of the results\n",
    "print(\"Backend:\",sampler.backend())\n",
    "qc_job = sampler.run(pubs, shots=2**10)\n",
    "\n",
    "with open(\"results/result_lambda_\"+lamb_tag+\".json\", \"w\") as file:\n",
    "    json.dump(qc_job.result(), file, cls=RuntimeEncoder)\n",
    "\n",
    "f = open(\"results/times_lambda_\"+lamb_tag+\".txt\", \"w\")\n",
    "for t in t_axis:\n",
    "    f.write(str(t)+\"\\n\")\n",
    "f.close()\n",
    "print(\"Task completed\")"
   ]
  }
 ],
 "metadata": {
  "kernelspec": {
   "display_name": "Python 3 (ipykernel)",
   "language": "python",
   "name": "python3"
  },
  "language_info": {
   "codemirror_mode": {
    "name": "ipython",
    "version": 3
   },
   "file_extension": ".py",
   "mimetype": "text/x-python",
   "name": "python",
   "nbconvert_exporter": "python",
   "pygments_lexer": "ipython3",
   "version": "3.13.2"
  }
 },
 "nbformat": 4,
 "nbformat_minor": 5
}
